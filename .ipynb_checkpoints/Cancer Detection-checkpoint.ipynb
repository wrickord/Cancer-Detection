{
 "cells": [
  {
   "cell_type": "markdown",
   "id": "411b250b",
   "metadata": {},
   "source": [
    "# Import Dependencies"
   ]
  },
  {
   "cell_type": "code",
   "execution_count": 1,
   "id": "1f8b46e5",
   "metadata": {},
   "outputs": [],
   "source": [
    "import numpy as np\n",
    "import pandas as pd\n",
    "import matplotlib.pyplot as plt\n",
    "import seaborn as sns\n",
    "\n",
    "sns.set()\n",
    "\n",
    "from sklearn.preprocessing import StandardScaler\n",
    "from sklearn.model_selection import train_test_split\n",
    "\n",
    "%matplotlib inline"
   ]
  },
  {
   "cell_type": "markdown",
   "id": "21e5c5a9",
   "metadata": {},
   "source": [
    "# Explore and Clean Dataset"
   ]
  },
  {
   "cell_type": "markdown",
   "id": "779311f8",
   "metadata": {},
   "source": [
    "## Leukemia Classes Data"
   ]
  },
  {
   "cell_type": "code",
   "execution_count": 2,
   "id": "02028004",
   "metadata": {},
   "outputs": [],
   "source": [
    "cancer_type_df = pd.read_csv('cancer_genetics.csv')"
   ]
  },
  {
   "cell_type": "code",
   "execution_count": 3,
   "id": "d27fb526",
   "metadata": {},
   "outputs": [
    {
     "data": {
      "text/html": [
       "<div>\n",
       "<style scoped>\n",
       "    .dataframe tbody tr th:only-of-type {\n",
       "        vertical-align: middle;\n",
       "    }\n",
       "\n",
       "    .dataframe tbody tr th {\n",
       "        vertical-align: top;\n",
       "    }\n",
       "\n",
       "    .dataframe thead th {\n",
       "        text-align: right;\n",
       "    }\n",
       "</style>\n",
       "<table border=\"1\" class=\"dataframe\">\n",
       "  <thead>\n",
       "    <tr style=\"text-align: right;\">\n",
       "      <th></th>\n",
       "      <th>patient</th>\n",
       "      <th>cancer</th>\n",
       "    </tr>\n",
       "  </thead>\n",
       "  <tbody>\n",
       "    <tr>\n",
       "      <th>0</th>\n",
       "      <td>1</td>\n",
       "      <td>ALL</td>\n",
       "    </tr>\n",
       "    <tr>\n",
       "      <th>1</th>\n",
       "      <td>2</td>\n",
       "      <td>ALL</td>\n",
       "    </tr>\n",
       "    <tr>\n",
       "      <th>2</th>\n",
       "      <td>3</td>\n",
       "      <td>ALL</td>\n",
       "    </tr>\n",
       "    <tr>\n",
       "      <th>3</th>\n",
       "      <td>4</td>\n",
       "      <td>ALL</td>\n",
       "    </tr>\n",
       "    <tr>\n",
       "      <th>4</th>\n",
       "      <td>5</td>\n",
       "      <td>ALL</td>\n",
       "    </tr>\n",
       "  </tbody>\n",
       "</table>\n",
       "</div>"
      ],
      "text/plain": [
       "   patient cancer\n",
       "0        1    ALL\n",
       "1        2    ALL\n",
       "2        3    ALL\n",
       "3        4    ALL\n",
       "4        5    ALL"
      ]
     },
     "execution_count": 3,
     "metadata": {},
     "output_type": "execute_result"
    }
   ],
   "source": [
    "cancer_type_df.head()"
   ]
  },
  {
   "cell_type": "code",
   "execution_count": 4,
   "id": "6abea6f2",
   "metadata": {},
   "outputs": [
    {
     "data": {
      "text/plain": [
       "ALL    47\n",
       "AML    25\n",
       "Name: cancer, dtype: int64"
      ]
     },
     "execution_count": 4,
     "metadata": {},
     "output_type": "execute_result"
    }
   ],
   "source": [
    "cancer_type_df['cancer'].value_counts()"
   ]
  },
  {
   "cell_type": "markdown",
   "id": "810755df",
   "metadata": {},
   "source": [
    "#### Since cancer types are classified as ALL and AML, we are going to translate these values to numerical inputs."
   ]
  },
  {
   "cell_type": "code",
   "execution_count": 5,
   "id": "c7c37cb5",
   "metadata": {},
   "outputs": [],
   "source": [
    "cancer_type_df = cancer_type_df.replace({'ALL':0, 'AML':1})"
   ]
  },
  {
   "cell_type": "code",
   "execution_count": 6,
   "id": "757de4d5",
   "metadata": {},
   "outputs": [
    {
     "data": {
      "text/plain": [
       "0    47\n",
       "1    25\n",
       "Name: cancer, dtype: int64"
      ]
     },
     "execution_count": 6,
     "metadata": {},
     "output_type": "execute_result"
    }
   ],
   "source": [
    "cancer_type_df['cancer'].value_counts()"
   ]
  },
  {
   "cell_type": "markdown",
   "id": "92a41a99",
   "metadata": {},
   "source": [
    "## Genetics Training Data"
   ]
  },
  {
   "cell_type": "code",
   "execution_count": 7,
   "id": "682ed8f7",
   "metadata": {},
   "outputs": [],
   "source": [
    "df_train = pd.read_csv('cancer_genetics_train.csv')"
   ]
  },
  {
   "cell_type": "code",
   "execution_count": 8,
   "id": "c5386686",
   "metadata": {},
   "outputs": [
    {
     "data": {
      "text/html": [
       "<div>\n",
       "<style scoped>\n",
       "    .dataframe tbody tr th:only-of-type {\n",
       "        vertical-align: middle;\n",
       "    }\n",
       "\n",
       "    .dataframe tbody tr th {\n",
       "        vertical-align: top;\n",
       "    }\n",
       "\n",
       "    .dataframe thead th {\n",
       "        text-align: right;\n",
       "    }\n",
       "</style>\n",
       "<table border=\"1\" class=\"dataframe\">\n",
       "  <thead>\n",
       "    <tr style=\"text-align: right;\">\n",
       "      <th></th>\n",
       "      <th>Gene Description</th>\n",
       "      <th>Gene Accession Number</th>\n",
       "      <th>1</th>\n",
       "      <th>call</th>\n",
       "      <th>2</th>\n",
       "      <th>call.1</th>\n",
       "      <th>3</th>\n",
       "      <th>call.2</th>\n",
       "      <th>4</th>\n",
       "      <th>call.3</th>\n",
       "      <th>...</th>\n",
       "      <th>29</th>\n",
       "      <th>call.33</th>\n",
       "      <th>30</th>\n",
       "      <th>call.34</th>\n",
       "      <th>31</th>\n",
       "      <th>call.35</th>\n",
       "      <th>32</th>\n",
       "      <th>call.36</th>\n",
       "      <th>33</th>\n",
       "      <th>call.37</th>\n",
       "    </tr>\n",
       "  </thead>\n",
       "  <tbody>\n",
       "    <tr>\n",
       "      <th>7124</th>\n",
       "      <td>PTGER3 Prostaglandin E receptor 3 (subtype EP3...</td>\n",
       "      <td>X83863_at</td>\n",
       "      <td>793</td>\n",
       "      <td>A</td>\n",
       "      <td>782</td>\n",
       "      <td>A</td>\n",
       "      <td>1138</td>\n",
       "      <td>A</td>\n",
       "      <td>627</td>\n",
       "      <td>A</td>\n",
       "      <td>...</td>\n",
       "      <td>279</td>\n",
       "      <td>A</td>\n",
       "      <td>737</td>\n",
       "      <td>A</td>\n",
       "      <td>588</td>\n",
       "      <td>A</td>\n",
       "      <td>1170</td>\n",
       "      <td>A</td>\n",
       "      <td>2315</td>\n",
       "      <td>A</td>\n",
       "    </tr>\n",
       "    <tr>\n",
       "      <th>7125</th>\n",
       "      <td>HMG2 High-mobility group (nonhistone chromosom...</td>\n",
       "      <td>Z17240_at</td>\n",
       "      <td>329</td>\n",
       "      <td>A</td>\n",
       "      <td>295</td>\n",
       "      <td>A</td>\n",
       "      <td>777</td>\n",
       "      <td>P</td>\n",
       "      <td>170</td>\n",
       "      <td>A</td>\n",
       "      <td>...</td>\n",
       "      <td>51</td>\n",
       "      <td>A</td>\n",
       "      <td>227</td>\n",
       "      <td>A</td>\n",
       "      <td>361</td>\n",
       "      <td>A</td>\n",
       "      <td>284</td>\n",
       "      <td>A</td>\n",
       "      <td>250</td>\n",
       "      <td>A</td>\n",
       "    </tr>\n",
       "    <tr>\n",
       "      <th>7126</th>\n",
       "      <td>RB1 Retinoblastoma 1 (including osteosarcoma)</td>\n",
       "      <td>L49218_f_at</td>\n",
       "      <td>36</td>\n",
       "      <td>A</td>\n",
       "      <td>11</td>\n",
       "      <td>A</td>\n",
       "      <td>41</td>\n",
       "      <td>A</td>\n",
       "      <td>-50</td>\n",
       "      <td>A</td>\n",
       "      <td>...</td>\n",
       "      <td>6</td>\n",
       "      <td>A</td>\n",
       "      <td>-9</td>\n",
       "      <td>A</td>\n",
       "      <td>-26</td>\n",
       "      <td>A</td>\n",
       "      <td>39</td>\n",
       "      <td>A</td>\n",
       "      <td>-12</td>\n",
       "      <td>A</td>\n",
       "    </tr>\n",
       "    <tr>\n",
       "      <th>7127</th>\n",
       "      <td>GB DEF = Glycophorin Sta (type A) exons 3 and ...</td>\n",
       "      <td>M71243_f_at</td>\n",
       "      <td>191</td>\n",
       "      <td>A</td>\n",
       "      <td>76</td>\n",
       "      <td>A</td>\n",
       "      <td>228</td>\n",
       "      <td>A</td>\n",
       "      <td>126</td>\n",
       "      <td>A</td>\n",
       "      <td>...</td>\n",
       "      <td>2484</td>\n",
       "      <td>P</td>\n",
       "      <td>371</td>\n",
       "      <td>A</td>\n",
       "      <td>133</td>\n",
       "      <td>A</td>\n",
       "      <td>298</td>\n",
       "      <td>A</td>\n",
       "      <td>790</td>\n",
       "      <td>P</td>\n",
       "    </tr>\n",
       "    <tr>\n",
       "      <th>7128</th>\n",
       "      <td>GB DEF = mRNA (clone 1A7)</td>\n",
       "      <td>Z78285_f_at</td>\n",
       "      <td>-37</td>\n",
       "      <td>A</td>\n",
       "      <td>-14</td>\n",
       "      <td>A</td>\n",
       "      <td>-41</td>\n",
       "      <td>A</td>\n",
       "      <td>-91</td>\n",
       "      <td>A</td>\n",
       "      <td>...</td>\n",
       "      <td>-2</td>\n",
       "      <td>A</td>\n",
       "      <td>-31</td>\n",
       "      <td>A</td>\n",
       "      <td>-32</td>\n",
       "      <td>A</td>\n",
       "      <td>-3</td>\n",
       "      <td>A</td>\n",
       "      <td>-10</td>\n",
       "      <td>A</td>\n",
       "    </tr>\n",
       "  </tbody>\n",
       "</table>\n",
       "<p>5 rows × 78 columns</p>\n",
       "</div>"
      ],
      "text/plain": [
       "                                       Gene Description Gene Accession Number  \\\n",
       "7124  PTGER3 Prostaglandin E receptor 3 (subtype EP3...             X83863_at   \n",
       "7125  HMG2 High-mobility group (nonhistone chromosom...             Z17240_at   \n",
       "7126      RB1 Retinoblastoma 1 (including osteosarcoma)           L49218_f_at   \n",
       "7127  GB DEF = Glycophorin Sta (type A) exons 3 and ...           M71243_f_at   \n",
       "7128                          GB DEF = mRNA (clone 1A7)           Z78285_f_at   \n",
       "\n",
       "        1 call    2 call.1     3 call.2    4 call.3  ...    29 call.33   30  \\\n",
       "7124  793    A  782      A  1138      A  627      A  ...   279       A  737   \n",
       "7125  329    A  295      A   777      P  170      A  ...    51       A  227   \n",
       "7126   36    A   11      A    41      A  -50      A  ...     6       A   -9   \n",
       "7127  191    A   76      A   228      A  126      A  ...  2484       P  371   \n",
       "7128  -37    A  -14      A   -41      A  -91      A  ...    -2       A  -31   \n",
       "\n",
       "     call.34   31 call.35    32 call.36    33 call.37  \n",
       "7124       A  588       A  1170       A  2315       A  \n",
       "7125       A  361       A   284       A   250       A  \n",
       "7126       A  -26       A    39       A   -12       A  \n",
       "7127       A  133       A   298       A   790       P  \n",
       "7128       A  -32       A    -3       A   -10       A  \n",
       "\n",
       "[5 rows x 78 columns]"
      ]
     },
     "execution_count": 8,
     "metadata": {},
     "output_type": "execute_result"
    }
   ],
   "source": [
    "df_train.tail()"
   ]
  },
  {
   "cell_type": "code",
   "execution_count": 9,
   "id": "86f15587",
   "metadata": {},
   "outputs": [
    {
     "ename": "NameError",
     "evalue": "name 'genetics_df' is not defined",
     "output_type": "error",
     "traceback": [
      "\u001b[1;31m---------------------------------------------------------------------------\u001b[0m",
      "\u001b[1;31mNameError\u001b[0m                                 Traceback (most recent call last)",
      "\u001b[1;32m~\\AppData\\Local\\Temp/ipykernel_39772/440436376.py\u001b[0m in \u001b[0;36m<module>\u001b[1;34m\u001b[0m\n\u001b[1;32m----> 1\u001b[1;33m \u001b[0mgenetics_df\u001b[0m\u001b[1;33m.\u001b[0m\u001b[0mcolumns\u001b[0m\u001b[1;33m\u001b[0m\u001b[1;33m\u001b[0m\u001b[0m\n\u001b[0m",
      "\u001b[1;31mNameError\u001b[0m: name 'genetics_df' is not defined"
     ]
    }
   ],
   "source": [
    "df_train.columns"
   ]
  },
  {
   "cell_type": "code",
   "execution_count": 5,
   "id": "b369a2bf",
   "metadata": {},
   "outputs": [
    {
     "name": "stdout",
     "output_type": "stream",
     "text": [
      "<class 'pandas.core.frame.DataFrame'>\n",
      "RangeIndex: 72 entries, 0 to 71\n",
      "Data columns (total 2 columns):\n",
      " #   Column   Non-Null Count  Dtype \n",
      "---  ------   --------------  ----- \n",
      " 0   patient  72 non-null     int64 \n",
      " 1   cancer   72 non-null     object\n",
      "dtypes: int64(1), object(1)\n",
      "memory usage: 1.2+ KB\n"
     ]
    }
   ],
   "source": [
    "df_train.info()"
   ]
  },
  {
   "cell_type": "code",
   "execution_count": null,
   "id": "6fd80b71",
   "metadata": {},
   "outputs": [],
   "source": [
    "df_train.isnull()"
   ]
  },
  {
   "cell_type": "code",
   "execution_count": null,
   "id": "01fed3b3",
   "metadata": {},
   "outputs": [],
   "source": [
    "df_train.isnull().sum()"
   ]
  },
  {
   "cell_type": "markdown",
   "id": "3e48fde0",
   "metadata": {},
   "source": [
    "## Replace 0s with NaN"
   ]
  },
  {
   "cell_type": "code",
   "execution_count": null,
   "id": "49a45874",
   "metadata": {},
   "outputs": [],
   "source": [
    "diabetes_copy = diabetes_df.copy(deep=True)\n",
    "diabetes_copy[['Glucose','BloodPressure','SkinThickness','Insulin','BMI']] = diabetes_copy[['Glucose','BloodPressure','SkinThickness','Insulin','BMI']].replace(0,np.NaN)"
   ]
  },
  {
   "cell_type": "code",
   "execution_count": null,
   "id": "44eb1e5b",
   "metadata": {
    "scrolled": true
   },
   "outputs": [],
   "source": [
    "diabetes_copy.isnull().sum()"
   ]
  },
  {
   "cell_type": "markdown",
   "id": "9454f38a",
   "metadata": {},
   "source": [
    "## Replace NaNs with Medians"
   ]
  },
  {
   "cell_type": "code",
   "execution_count": null,
   "id": "34133a10",
   "metadata": {},
   "outputs": [],
   "source": [
    "diabetes_copy['Glucose'].fillna(diabetes_copy['Glucose'].median(), inplace = True)\n",
    "diabetes_copy['BloodPressure'].fillna(diabetes_copy['BloodPressure'].median(), inplace = True)\n",
    "diabetes_copy['SkinThickness'].fillna(diabetes_copy['SkinThickness'].median(), inplace = True)\n",
    "diabetes_copy['Insulin'].fillna(diabetes_copy['Insulin'].median(), inplace = True)\n",
    "diabetes_copy['BMI'].fillna(diabetes_copy['BMI'].median(), inplace = True)"
   ]
  },
  {
   "cell_type": "markdown",
   "id": "9e3ffcfa",
   "metadata": {},
   "source": [
    "## Visualize as Boxplot"
   ]
  },
  {
   "cell_type": "code",
   "execution_count": null,
   "id": "0106bbf2",
   "metadata": {},
   "outputs": [],
   "source": [
    "count = 0\n",
    "for i in range(diabetes_copy.columns.size):\n",
    "    plt.figure(i)\n",
    "    sns.boxplot(x=diabetes_copy[diabetes_copy.columns[i]])"
   ]
  },
  {
   "cell_type": "markdown",
   "id": "b230c5ba",
   "metadata": {},
   "source": [
    "# Remove Outliers Using Z Scores"
   ]
  },
  {
   "cell_type": "code",
   "execution_count": null,
   "id": "9b1c1e74",
   "metadata": {},
   "outputs": [],
   "source": [
    "import scipy.stats as stats\n",
    "\n",
    "z = np.abs(stats.zscore(diabetes_copy))\n",
    "data_clean = diabetes_copy[(z<3).all(axis=1)]\n",
    "data_clean.shape"
   ]
  },
  {
   "cell_type": "code",
   "execution_count": null,
   "id": "05b18c85",
   "metadata": {},
   "outputs": [],
   "source": [
    "data_clean"
   ]
  },
  {
   "cell_type": "markdown",
   "id": "bfd785c1",
   "metadata": {},
   "source": [
    "# Data Correlation"
   ]
  },
  {
   "cell_type": "code",
   "execution_count": null,
   "id": "3b0c906b",
   "metadata": {},
   "outputs": [],
   "source": [
    "sns.heatmap(data_clean.corr(), fmt='.2g', annot=True)"
   ]
  },
  {
   "cell_type": "code",
   "execution_count": null,
   "id": "07cade94",
   "metadata": {},
   "outputs": [],
   "source": [
    "#Counting 1 and 0 Value in Outcome column\n",
    "color_wheel = {1: \"#0392cf\", 2: \"#7bc043\"}\n",
    "colors = data_clean[\"Outcome\"].map(lambda x: color_wheel.get(x + 1))\n",
    "print(data_clean.Outcome.value_counts())\n",
    "p=data_clean.Outcome.value_counts().plot(kind=\"bar\")"
   ]
  },
  {
   "cell_type": "code",
   "execution_count": null,
   "id": "3b79d3dc",
   "metadata": {},
   "outputs": [],
   "source": [
    "sc_X = StandardScaler()\n",
    "X =  pd.DataFrame(sc_X.fit_transform(diabetes_copy.drop([\"Outcome\"],axis = 1),), columns=['Pregnancies', \n",
    "'Glucose', 'BloodPressure', 'SkinThickness', 'Insulin', 'BMI', 'DiabetesPedigreeFunction', 'Age'])\n",
    "X.head()"
   ]
  },
  {
   "cell_type": "markdown",
   "id": "8b4a2c45",
   "metadata": {},
   "source": [
    "# Build Machine Learning Model"
   ]
  },
  {
   "cell_type": "code",
   "execution_count": null,
   "id": "de9c39f7",
   "metadata": {},
   "outputs": [],
   "source": [
    "X = diabetes_df.drop('Outcome', axis=1)\n",
    "y = diabetes_df['Outcome']"
   ]
  },
  {
   "cell_type": "code",
   "execution_count": null,
   "id": "7e197c09",
   "metadata": {},
   "outputs": [],
   "source": [
    "#test size 20% and train size 80%\n",
    "from sklearn.model_selection import train_test_split, cross_val_score, cross_val_predict\n",
    "from sklearn.metrics import classification_report, confusion_matrix\n",
    "\n",
    "X_train, X_test, y_train, y_test = train_test_split(X,y, test_size=0.2,random_state=7)"
   ]
  },
  {
   "cell_type": "markdown",
   "id": "4ae0320d",
   "metadata": {},
   "source": [
    "# Random Forest"
   ]
  },
  {
   "cell_type": "code",
   "execution_count": null,
   "id": "d21059be",
   "metadata": {},
   "outputs": [],
   "source": [
    "from sklearn.ensemble import RandomForestClassifier\n",
    "\n",
    "rfc = RandomForestClassifier(n_estimators=200)\n",
    "rfc.fit(X_train, y_train)"
   ]
  },
  {
   "cell_type": "code",
   "execution_count": null,
   "id": "bde44dcf",
   "metadata": {},
   "outputs": [],
   "source": [
    "rfc_train = rfc.predict(X_train)\n",
    "from sklearn import metrics\n",
    "\n",
    "print(\"Accuracy_Score =\", format(metrics.accuracy_score(y_train, rfc_train)))"
   ]
  },
  {
   "cell_type": "code",
   "execution_count": null,
   "id": "5cf86d64",
   "metadata": {},
   "outputs": [],
   "source": [
    "from sklearn import metrics\n",
    "\n",
    "predictions = rfc.predict(X_test)\n",
    "print(\"Accuracy_Score =\", format(metrics.accuracy_score(y_test, predictions)))"
   ]
  },
  {
   "cell_type": "code",
   "execution_count": null,
   "id": "3502f006",
   "metadata": {},
   "outputs": [],
   "source": [
    "from sklearn.metrics import classification_report, confusion_matrix\n",
    "\n",
    "print(confusion_matrix(y_test, predictions))\n",
    "print(classification_report(y_test,predictions))"
   ]
  },
  {
   "cell_type": "markdown",
   "id": "53aa852b",
   "metadata": {},
   "source": [
    "# Decision Tree"
   ]
  },
  {
   "cell_type": "code",
   "execution_count": null,
   "id": "752c16de",
   "metadata": {},
   "outputs": [],
   "source": [
    "from sklearn.tree import DecisionTreeClassifier\n",
    "\n",
    "dtree = DecisionTreeClassifier()\n",
    "dtree.fit(X_train, y_train)"
   ]
  },
  {
   "cell_type": "code",
   "execution_count": null,
   "id": "dfeff8ff",
   "metadata": {},
   "outputs": [],
   "source": [
    "y_pred = dtree.predict(X_test)\n",
    "print(\"Classification report - \\n\", classification_report(y_test,y_pred))"
   ]
  },
  {
   "cell_type": "code",
   "execution_count": null,
   "id": "114f61ca",
   "metadata": {},
   "outputs": [],
   "source": [
    "cm = confusion_matrix(y_test, y_pred)\n",
    "plt.figure(figsize=(5,5))\n",
    "sns.heatmap(data=cm,linewidths=.5, annot=True,square = True,  cmap = 'Blues')\n",
    "plt.ylabel('Actual label')\n",
    "plt.xlabel('Predicted label')\n",
    "all_sample_title = 'Accuracy Score: {0}'.format(dtree.score(X_test, y_test))\n",
    "plt.title(all_sample_title, size = 15)"
   ]
  },
  {
   "cell_type": "code",
   "execution_count": null,
   "id": "08449252",
   "metadata": {},
   "outputs": [],
   "source": [
    "from sklearn.metrics import roc_curve, roc_auc_score\n",
    "y_pred_proba = dtree.predict_proba(X_test)[:][:,1]\n",
    "\n",
    "df_actual_predicted = pd.concat([pd.DataFrame(np.array(y_test), columns=['y_actual']), pd.DataFrame(y_pred_proba, columns=['y_pred_proba'])], axis=1)\n",
    "df_actual_predicted.index = y_test.index\n",
    "\n",
    "fpr, tpr, tr = roc_curve(df_actual_predicted['y_actual'], df_actual_predicted['y_pred_proba'])\n",
    "auc = roc_auc_score(df_actual_predicted['y_actual'], df_actual_predicted['y_pred_proba'])\n",
    "\n",
    "plt.plot(fpr, tpr, label='AUC = %0.4f' %auc)\n",
    "plt.plot(fpr, fpr, linestyle = '--', color='k')\n",
    "plt.xlabel('False Positive Rate')\n",
    "plt.ylabel('True Positive Rate')\n",
    "plt.title('ROC Curve', size = 15)\n",
    "plt.legend()"
   ]
  },
  {
   "cell_type": "markdown",
   "id": "a4fca929",
   "metadata": {},
   "source": [
    "# XGBoost"
   ]
  },
  {
   "cell_type": "code",
   "execution_count": null,
   "id": "96949fc2",
   "metadata": {},
   "outputs": [],
   "source": [
    "from xgboost import XGBClassifier\n",
    "\n",
    "xgb_model = XGBClassifier(gamma=0)\n",
    "xgb_model.fit(X_train, y_train)"
   ]
  },
  {
   "cell_type": "code",
   "execution_count": null,
   "id": "565e1f30",
   "metadata": {},
   "outputs": [],
   "source": [
    "from sklearn import metrics\n",
    "\n",
    "xgb_pred = xgb_model.predict(X_test)\n",
    "print(\"Accuracy Score =\", format(metrics.accuracy_score(y_test, xgb_pred)))"
   ]
  },
  {
   "cell_type": "code",
   "execution_count": null,
   "id": "412164fa",
   "metadata": {},
   "outputs": [],
   "source": [
    "from sklearn.metrics import classification_report, confusion_matrix\n",
    "\n",
    "print(confusion_matrix(y_test, xgb_pred))\n",
    "print(classification_report(y_test,xgb_pred))"
   ]
  },
  {
   "cell_type": "markdown",
   "id": "91f56499",
   "metadata": {},
   "source": [
    "# Support Vector Machine"
   ]
  },
  {
   "cell_type": "code",
   "execution_count": null,
   "id": "b3a3e184",
   "metadata": {},
   "outputs": [],
   "source": [
    "from sklearn.svm import SVC\n",
    "\n",
    "svc_model = SVC()\n",
    "svc_model.fit(X_train, y_train)"
   ]
  },
  {
   "cell_type": "code",
   "execution_count": null,
   "id": "543be855",
   "metadata": {},
   "outputs": [],
   "source": [
    "svc_pred = svc_model.predict(X_test)"
   ]
  },
  {
   "cell_type": "code",
   "execution_count": null,
   "id": "772e485b",
   "metadata": {},
   "outputs": [],
   "source": [
    "from sklearn import metrics\n",
    "\n",
    "print(\"Accuracy Score =\", format(metrics.accuracy_score(y_test, svc_pred)))"
   ]
  },
  {
   "cell_type": "code",
   "execution_count": null,
   "id": "76f91e0f",
   "metadata": {},
   "outputs": [],
   "source": [
    "from sklearn.metrics import classification_report, confusion_matrix\n",
    "\n",
    "print(confusion_matrix(y_test, svc_pred))\n",
    "print(classification_report(y_test,svc_pred))"
   ]
  },
  {
   "cell_type": "markdown",
   "id": "f93a3e8f",
   "metadata": {},
   "source": [
    "# Feature Importance"
   ]
  },
  {
   "cell_type": "code",
   "execution_count": null,
   "id": "3db133cb",
   "metadata": {},
   "outputs": [],
   "source": [
    "rfc.feature_importances_"
   ]
  },
  {
   "cell_type": "code",
   "execution_count": null,
   "id": "01de3f3b",
   "metadata": {},
   "outputs": [],
   "source": [
    "(pd.Series(rfc.feature_importances_, index=X.columns).plot(kind='barh'))"
   ]
  },
  {
   "cell_type": "markdown",
   "id": "be486ba2",
   "metadata": {},
   "source": [
    "# Saving Model"
   ]
  },
  {
   "cell_type": "code",
   "execution_count": null,
   "id": "35897ef5",
   "metadata": {},
   "outputs": [],
   "source": [
    "import pickle\n",
    "\n",
    "# Firstly we will be using the dump() function to save the model using pickle\n",
    "saved_model = pickle.dumps(rfc)\n",
    "\n",
    "# Then we will be loading that saved model\n",
    "rfc_from_pickle = pickle.loads(saved_model)\n",
    "\n",
    "# lastly, after loading that model we will use this to make predictions\n",
    "rfc_from_pickle.predict(X_test)"
   ]
  },
  {
   "cell_type": "code",
   "execution_count": null,
   "id": "62a2d7c4",
   "metadata": {},
   "outputs": [],
   "source": [
    "diabetes_df.head()"
   ]
  },
  {
   "cell_type": "code",
   "execution_count": null,
   "id": "cd1442c2",
   "metadata": {},
   "outputs": [],
   "source": [
    "diabetes_df.tail()"
   ]
  },
  {
   "cell_type": "code",
   "execution_count": null,
   "id": "c5dea051",
   "metadata": {},
   "outputs": [],
   "source": [
    "rfc.predict([[0,137,40,35,168,43.1,2.228,33]]) #4th patient"
   ]
  },
  {
   "cell_type": "code",
   "execution_count": null,
   "id": "802b1bb9",
   "metadata": {},
   "outputs": [],
   "source": [
    "rfc.predict([[10,101,76,48,180,32.9,0.171,63]])  # 763th patient"
   ]
  },
  {
   "cell_type": "code",
   "execution_count": null,
   "id": "c0c154bd",
   "metadata": {},
   "outputs": [],
   "source": []
  }
 ],
 "metadata": {
  "kernelspec": {
   "display_name": "Python 3 (ipykernel)",
   "language": "python",
   "name": "python3"
  },
  "language_info": {
   "codemirror_mode": {
    "name": "ipython",
    "version": 3
   },
   "file_extension": ".py",
   "mimetype": "text/x-python",
   "name": "python",
   "nbconvert_exporter": "python",
   "pygments_lexer": "ipython3",
   "version": "3.9.7"
  }
 },
 "nbformat": 4,
 "nbformat_minor": 5
}
